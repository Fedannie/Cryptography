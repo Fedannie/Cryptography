{
 "cells": [
  {
   "cell_type": "code",
   "execution_count": 7,
   "metadata": {},
   "outputs": [],
   "source": [
    "import pymorphy2"
   ]
  },
  {
   "cell_type": "code",
   "execution_count": 8,
   "metadata": {},
   "outputs": [],
   "source": [
    "morph = pymorphy2.MorphAnalyzer()"
   ]
  },
  {
   "cell_type": "code",
   "execution_count": 14,
   "metadata": {},
   "outputs": [
    {
     "data": {
      "text/plain": [
       "'лилипут'"
      ]
     },
     "execution_count": 14,
     "metadata": {},
     "output_type": "execute_result"
    }
   ],
   "source": [
    "morph.parse(\"лилипутами\")[0].normal_form"
   ]
  },
  {
   "cell_type": "code",
   "execution_count": 30,
   "metadata": {},
   "outputs": [
    {
     "data": {
      "text/plain": [
       "True"
      ]
     },
     "execution_count": 30,
     "metadata": {},
     "output_type": "execute_result"
    }
   ],
   "source": [
    "'UNKN' in morph.parse(\"йцу\")[0].tag"
   ]
  },
  {
   "cell_type": "code",
   "execution_count": 82,
   "metadata": {},
   "outputs": [],
   "source": [
    "X = 'мтиисллапоун'\n",
    "X = list(X)"
   ]
  },
  {
   "cell_type": "code",
   "execution_count": 50,
   "metadata": {},
   "outputs": [],
   "source": [
    "d = open('zalizniak.txt', 'r', encoding='cp1251')"
   ]
  },
  {
   "cell_type": "code",
   "execution_count": 51,
   "metadata": {},
   "outputs": [],
   "source": [
    "d = d.read()"
   ]
  },
  {
   "cell_type": "code",
   "execution_count": 54,
   "metadata": {},
   "outputs": [],
   "source": [
    "import codecs\n",
    "out = codecs.open('out.txt', 'w', 'utf-8')\n",
    "out.write(d) "
   ]
  },
  {
   "cell_type": "code",
   "execution_count": 83,
   "metadata": {},
   "outputs": [],
   "source": [
    "import csv\n",
    "everything = []\n",
    "with open('odict.csv', newline='', encoding='cp1251') as d:\n",
    "    spamreader = csv.reader(d, delimiter=',')\n",
    "    for row in spamreader:\n",
    "        row = row[:1] + row[2:]\n",
    "        for word in row:\n",
    "            r = True\n",
    "            for ch in word:\n",
    "                if ch not in X:\n",
    "                    r = False\n",
    "            if r and len(word) > 0:\n",
    "                everything.append(word)"
   ]
  },
  {
   "cell_type": "code",
   "execution_count": 84,
   "metadata": {},
   "outputs": [],
   "source": [
    "def correct(word):\n",
    "    i = word.find('н')\n",
    "    j = 1\n",
    "    while True:\n",
    "        if i - j < 0:\n",
    "            return True\n",
    "        if i + j >= len(word):\n",
    "            return True\n",
    "        if word[i - j] != word[i + j]:\n",
    "            return False\n",
    "        j += 1\n",
    "    \n",
    "last = []\n",
    "for word in everything:\n",
    "    r = True\n",
    "    for ch in word:\n",
    "        if word.count(ch) > X.count(ch):\n",
    "            r = False\n",
    "            if word.count('н') == 1 and correct(word):\n",
    "                r = True\n",
    "    if r and word not in last:\n",
    "        last.append(word)"
   ]
  },
  {
   "cell_type": "code",
   "execution_count": 86,
   "metadata": {},
   "outputs": [
    {
     "data": {
      "text/plain": [
       "2562"
      ]
     },
     "execution_count": 86,
     "metadata": {},
     "output_type": "execute_result"
    }
   ],
   "source": [
    "len(last)"
   ]
  },
  {
   "cell_type": "code",
   "execution_count": 88,
   "metadata": {},
   "outputs": [],
   "source": [
    "X1 = 'мтиисллапоу'\n",
    "X1 = list(X1)"
   ]
  },
  {
   "cell_type": "code",
   "execution_count": 153,
   "metadata": {},
   "outputs": [],
   "source": [
    "def get_dict(alphabet):\n",
    "    new_d = last.copy()\n",
    "    for word in last:\n",
    "        r = True\n",
    "        for ch in word:\n",
    "            if alphabet.count(ch) < 1 and word.count('н') < 1:\n",
    "                r = False\n",
    "            if word.count('н') < 1 and alphabet.count(ch) < word.count(ch):\n",
    "                r = False\n",
    "        if r:\n",
    "            new_d.append(word)\n",
    "    return new_d"
   ]
  },
  {
   "cell_type": "code",
   "execution_count": 161,
   "metadata": {},
   "outputs": [
    {
     "name": "stdout",
     "output_type": "stream",
     "text": [
      "а ил и плут с моном стул пили а \n",
      "а ил и плут с моном стул пили а \n",
      "а ил и плут с моном стул пили а \n",
      "а ил и плут с моном стул пили а \n",
      "а ил и плут с моном стул пили а \n",
      "а ил и плут с моном стул пили а \n",
      "а ил и плут с моном стул пили а \n",
      "а ил и плут с моном стул пили а \n",
      "а ил и плут с моном стул пили а \n",
      "а ил и плут с моном стул пили а \n",
      "а ил и плут с моном стул пили а \n",
      "а ил и плут с моном стул пили а \n",
      "а ил и плут с моном стул пили а \n",
      "а ил и плут с моном стул пили а \n",
      "а ил и плут с моном стул пили а \n",
      "а ил и плут с моном стул пили а \n",
      "а ил и плут с моном стул пили а \n",
      "а ил и плут с моном стул пили а \n",
      "а ил и плут с моном стул пили а \n",
      "а ил и плут с моном стул пили а \n",
      "а ил и плут с моном стул пили а \n",
      "а ил и плут с моном стул пили а \n",
      "а ил и плут с моном стул пили а \n",
      "а ил и плут с моном стул пили а \n",
      "а ил и плут с моном стул пили а \n",
      "а ил и плут с моном стул пили а \n",
      "а ил и плут с моном стул пили а \n",
      "а ил и плут с моном стул пили а \n",
      "а ил и плут с моном стул пили а \n",
      "а ил и плут с моном стул пили а \n",
      "а ил и плут с моном стул пили а \n",
      "а ил и плут с моном стул пили а \n"
     ]
    },
    {
     "ename": "KeyboardInterrupt",
     "evalue": "",
     "output_type": "error",
     "traceback": [
      "\u001b[0;31m---------------------------------------------------------------------------\u001b[0m",
      "\u001b[0;31mKeyboardInterrupt\u001b[0m                         Traceback (most recent call last)",
      "\u001b[0;32m<ipython-input-161-5230bcbe3360>\u001b[0m in \u001b[0;36m<module>\u001b[0;34m()\u001b[0m\n\u001b[1;32m     92\u001b[0m         \u001b[0;32mcontinue\u001b[0m\u001b[0;34m\u001b[0m\u001b[0m\n\u001b[1;32m     93\u001b[0m     \u001b[0mmessage\u001b[0m \u001b[0;34m=\u001b[0m \u001b[0mword\u001b[0m \u001b[0;34m+\u001b[0m \u001b[0;34m' '\u001b[0m\u001b[0;34m\u001b[0m\u001b[0m\n\u001b[0;32m---> 94\u001b[0;31m     \u001b[0mfill\u001b[0m\u001b[0;34m(\u001b[0m\u001b[0mmessage\u001b[0m\u001b[0;34m)\u001b[0m\u001b[0;34m\u001b[0m\u001b[0m\n\u001b[0m",
      "\u001b[0;32m<ipython-input-161-5230bcbe3360>\u001b[0m in \u001b[0;36mfill\u001b[0;34m(first)\u001b[0m\n\u001b[1;32m     62\u001b[0m             \u001b[0mfill_last\u001b[0m\u001b[0;34m(\u001b[0m\u001b[0mfirst\u001b[0m \u001b[0;34m+\u001b[0m \u001b[0mword\u001b[0m \u001b[0;34m+\u001b[0m \u001b[0;34m' '\u001b[0m\u001b[0;34m)\u001b[0m\u001b[0;34m\u001b[0m\u001b[0m\n\u001b[1;32m     63\u001b[0m             \u001b[0;32mcontinue\u001b[0m\u001b[0;34m\u001b[0m\u001b[0m\n\u001b[0;32m---> 64\u001b[0;31m         \u001b[0mfill\u001b[0m\u001b[0;34m(\u001b[0m\u001b[0mfirst\u001b[0m \u001b[0;34m+\u001b[0m \u001b[0mword\u001b[0m \u001b[0;34m+\u001b[0m \u001b[0;34m' '\u001b[0m\u001b[0;34m)\u001b[0m\u001b[0;34m\u001b[0m\u001b[0m\n\u001b[0m\u001b[1;32m     65\u001b[0m \u001b[0;34m\u001b[0m\u001b[0m\n\u001b[1;32m     66\u001b[0m \u001b[0;32mdef\u001b[0m \u001b[0mfill_last\u001b[0m\u001b[0;34m(\u001b[0m\u001b[0mfirst\u001b[0m\u001b[0;34m)\u001b[0m\u001b[0;34m:\u001b[0m\u001b[0;34m\u001b[0m\u001b[0m\n",
      "\u001b[0;32m<ipython-input-161-5230bcbe3360>\u001b[0m in \u001b[0;36mfill\u001b[0;34m(first)\u001b[0m\n\u001b[1;32m     62\u001b[0m             \u001b[0mfill_last\u001b[0m\u001b[0;34m(\u001b[0m\u001b[0mfirst\u001b[0m \u001b[0;34m+\u001b[0m \u001b[0mword\u001b[0m \u001b[0;34m+\u001b[0m \u001b[0;34m' '\u001b[0m\u001b[0;34m)\u001b[0m\u001b[0;34m\u001b[0m\u001b[0m\n\u001b[1;32m     63\u001b[0m             \u001b[0;32mcontinue\u001b[0m\u001b[0;34m\u001b[0m\u001b[0m\n\u001b[0;32m---> 64\u001b[0;31m         \u001b[0mfill\u001b[0m\u001b[0;34m(\u001b[0m\u001b[0mfirst\u001b[0m \u001b[0;34m+\u001b[0m \u001b[0mword\u001b[0m \u001b[0;34m+\u001b[0m \u001b[0;34m' '\u001b[0m\u001b[0;34m)\u001b[0m\u001b[0;34m\u001b[0m\u001b[0m\n\u001b[0m\u001b[1;32m     65\u001b[0m \u001b[0;34m\u001b[0m\u001b[0m\n\u001b[1;32m     66\u001b[0m \u001b[0;32mdef\u001b[0m \u001b[0mfill_last\u001b[0m\u001b[0;34m(\u001b[0m\u001b[0mfirst\u001b[0m\u001b[0;34m)\u001b[0m\u001b[0;34m:\u001b[0m\u001b[0;34m\u001b[0m\u001b[0m\n",
      "\u001b[0;32m<ipython-input-161-5230bcbe3360>\u001b[0m in \u001b[0;36mfill\u001b[0;34m(first)\u001b[0m\n\u001b[1;32m     62\u001b[0m             \u001b[0mfill_last\u001b[0m\u001b[0;34m(\u001b[0m\u001b[0mfirst\u001b[0m \u001b[0;34m+\u001b[0m \u001b[0mword\u001b[0m \u001b[0;34m+\u001b[0m \u001b[0;34m' '\u001b[0m\u001b[0;34m)\u001b[0m\u001b[0;34m\u001b[0m\u001b[0m\n\u001b[1;32m     63\u001b[0m             \u001b[0;32mcontinue\u001b[0m\u001b[0;34m\u001b[0m\u001b[0m\n\u001b[0;32m---> 64\u001b[0;31m         \u001b[0mfill\u001b[0m\u001b[0;34m(\u001b[0m\u001b[0mfirst\u001b[0m \u001b[0;34m+\u001b[0m \u001b[0mword\u001b[0m \u001b[0;34m+\u001b[0m \u001b[0;34m' '\u001b[0m\u001b[0;34m)\u001b[0m\u001b[0;34m\u001b[0m\u001b[0m\n\u001b[0m\u001b[1;32m     65\u001b[0m \u001b[0;34m\u001b[0m\u001b[0m\n\u001b[1;32m     66\u001b[0m \u001b[0;32mdef\u001b[0m \u001b[0mfill_last\u001b[0m\u001b[0;34m(\u001b[0m\u001b[0mfirst\u001b[0m\u001b[0;34m)\u001b[0m\u001b[0;34m:\u001b[0m\u001b[0;34m\u001b[0m\u001b[0m\n",
      "\u001b[0;32m<ipython-input-161-5230bcbe3360>\u001b[0m in \u001b[0;36mfill\u001b[0;34m(first)\u001b[0m\n\u001b[1;32m     62\u001b[0m             \u001b[0mfill_last\u001b[0m\u001b[0;34m(\u001b[0m\u001b[0mfirst\u001b[0m \u001b[0;34m+\u001b[0m \u001b[0mword\u001b[0m \u001b[0;34m+\u001b[0m \u001b[0;34m' '\u001b[0m\u001b[0;34m)\u001b[0m\u001b[0;34m\u001b[0m\u001b[0m\n\u001b[1;32m     63\u001b[0m             \u001b[0;32mcontinue\u001b[0m\u001b[0;34m\u001b[0m\u001b[0m\n\u001b[0;32m---> 64\u001b[0;31m         \u001b[0mfill\u001b[0m\u001b[0;34m(\u001b[0m\u001b[0mfirst\u001b[0m \u001b[0;34m+\u001b[0m \u001b[0mword\u001b[0m \u001b[0;34m+\u001b[0m \u001b[0;34m' '\u001b[0m\u001b[0;34m)\u001b[0m\u001b[0;34m\u001b[0m\u001b[0m\n\u001b[0m\u001b[1;32m     65\u001b[0m \u001b[0;34m\u001b[0m\u001b[0m\n\u001b[1;32m     66\u001b[0m \u001b[0;32mdef\u001b[0m \u001b[0mfill_last\u001b[0m\u001b[0;34m(\u001b[0m\u001b[0mfirst\u001b[0m\u001b[0;34m)\u001b[0m\u001b[0;34m:\u001b[0m\u001b[0;34m\u001b[0m\u001b[0m\n",
      "\u001b[0;32m<ipython-input-161-5230bcbe3360>\u001b[0m in \u001b[0;36mfill\u001b[0;34m(first)\u001b[0m\n\u001b[1;32m     62\u001b[0m             \u001b[0mfill_last\u001b[0m\u001b[0;34m(\u001b[0m\u001b[0mfirst\u001b[0m \u001b[0;34m+\u001b[0m \u001b[0mword\u001b[0m \u001b[0;34m+\u001b[0m \u001b[0;34m' '\u001b[0m\u001b[0;34m)\u001b[0m\u001b[0;34m\u001b[0m\u001b[0m\n\u001b[1;32m     63\u001b[0m             \u001b[0;32mcontinue\u001b[0m\u001b[0;34m\u001b[0m\u001b[0m\n\u001b[0;32m---> 64\u001b[0;31m         \u001b[0mfill\u001b[0m\u001b[0;34m(\u001b[0m\u001b[0mfirst\u001b[0m \u001b[0;34m+\u001b[0m \u001b[0mword\u001b[0m \u001b[0;34m+\u001b[0m \u001b[0;34m' '\u001b[0m\u001b[0;34m)\u001b[0m\u001b[0;34m\u001b[0m\u001b[0m\n\u001b[0m\u001b[1;32m     65\u001b[0m \u001b[0;34m\u001b[0m\u001b[0m\n\u001b[1;32m     66\u001b[0m \u001b[0;32mdef\u001b[0m \u001b[0mfill_last\u001b[0m\u001b[0;34m(\u001b[0m\u001b[0mfirst\u001b[0m\u001b[0;34m)\u001b[0m\u001b[0;34m:\u001b[0m\u001b[0;34m\u001b[0m\u001b[0m\n",
      "\u001b[0;32m<ipython-input-161-5230bcbe3360>\u001b[0m in \u001b[0;36mfill\u001b[0;34m(first)\u001b[0m\n\u001b[1;32m     60\u001b[0m             \u001b[0;32mcontinue\u001b[0m\u001b[0;34m\u001b[0m\u001b[0m\n\u001b[1;32m     61\u001b[0m         \u001b[0;32mif\u001b[0m \u001b[0mlen\u001b[0m\u001b[0;34m(\u001b[0m\u001b[0mword\u001b[0m\u001b[0;34m)\u001b[0m \u001b[0;34m>\u001b[0m \u001b[0mlen\u001b[0m\u001b[0;34m(\u001b[0m\u001b[0mrest\u001b[0m\u001b[0;34m)\u001b[0m \u001b[0;32mand\u001b[0m \u001b[0mcheck\u001b[0m\u001b[0;34m(\u001b[0m\u001b[0mfirst\u001b[0m\u001b[0;34m,\u001b[0m \u001b[0mword\u001b[0m\u001b[0;34m)\u001b[0m\u001b[0;34m:\u001b[0m\u001b[0;34m\u001b[0m\u001b[0m\n\u001b[0;32m---> 62\u001b[0;31m             \u001b[0mfill_last\u001b[0m\u001b[0;34m(\u001b[0m\u001b[0mfirst\u001b[0m \u001b[0;34m+\u001b[0m \u001b[0mword\u001b[0m \u001b[0;34m+\u001b[0m \u001b[0;34m' '\u001b[0m\u001b[0;34m)\u001b[0m\u001b[0;34m\u001b[0m\u001b[0m\n\u001b[0m\u001b[1;32m     63\u001b[0m             \u001b[0;32mcontinue\u001b[0m\u001b[0;34m\u001b[0m\u001b[0m\n\u001b[1;32m     64\u001b[0m         \u001b[0mfill\u001b[0m\u001b[0;34m(\u001b[0m\u001b[0mfirst\u001b[0m \u001b[0;34m+\u001b[0m \u001b[0mword\u001b[0m \u001b[0;34m+\u001b[0m \u001b[0;34m' '\u001b[0m\u001b[0;34m)\u001b[0m\u001b[0;34m\u001b[0m\u001b[0m\n",
      "\u001b[0;32m<ipython-input-161-5230bcbe3360>\u001b[0m in \u001b[0;36mfill_last\u001b[0;34m(first)\u001b[0m\n\u001b[1;32m     80\u001b[0m         \u001b[0;32mif\u001b[0m \u001b[0mlen\u001b[0m\u001b[0;34m(\u001b[0m\u001b[0mword\u001b[0m\u001b[0;34m)\u001b[0m \u001b[0;34m>\u001b[0m \u001b[0mlen\u001b[0m\u001b[0;34m(\u001b[0m\u001b[0mrest\u001b[0m\u001b[0;34m)\u001b[0m\u001b[0;34m:\u001b[0m\u001b[0;34m\u001b[0m\u001b[0m\n\u001b[1;32m     81\u001b[0m             \u001b[0;32mcontinue\u001b[0m\u001b[0;34m\u001b[0m\u001b[0m\n\u001b[0;32m---> 82\u001b[0;31m         \u001b[0;32mif\u001b[0m \u001b[0mcheck\u001b[0m\u001b[0;34m(\u001b[0m\u001b[0mfirst\u001b[0m\u001b[0;34m,\u001b[0m \u001b[0mword\u001b[0m\u001b[0;34m)\u001b[0m\u001b[0;34m:\u001b[0m\u001b[0;34m\u001b[0m\u001b[0m\n\u001b[0m\u001b[1;32m     83\u001b[0m             \u001b[0mfill_last\u001b[0m\u001b[0;34m(\u001b[0m\u001b[0mfirst\u001b[0m \u001b[0;34m+\u001b[0m \u001b[0mword\u001b[0m \u001b[0;34m+\u001b[0m \u001b[0;34m' '\u001b[0m\u001b[0;34m)\u001b[0m\u001b[0;34m\u001b[0m\u001b[0m\n\u001b[1;32m     84\u001b[0m \u001b[0;34m\u001b[0m\u001b[0m\n",
      "\u001b[0;32m<ipython-input-161-5230bcbe3360>\u001b[0m in \u001b[0;36mcheck\u001b[0;34m(first, word)\u001b[0m\n\u001b[1;32m     26\u001b[0m         \u001b[0;32mreturn\u001b[0m \u001b[0;32mFalse\u001b[0m\u001b[0;34m\u001b[0m\u001b[0m\n\u001b[1;32m     27\u001b[0m     \u001b[0;32mfor\u001b[0m \u001b[0mch\u001b[0m \u001b[0;32min\u001b[0m \u001b[0mX1\u001b[0m\u001b[0;34m:\u001b[0m\u001b[0;34m\u001b[0m\u001b[0m\n\u001b[0;32m---> 28\u001b[0;31m         \u001b[0;32mif\u001b[0m \u001b[0mal\u001b[0m\u001b[0;34m.\u001b[0m\u001b[0mfind\u001b[0m\u001b[0;34m(\u001b[0m\u001b[0mch\u001b[0m\u001b[0;34m)\u001b[0m \u001b[0;34m==\u001b[0m \u001b[0;34m-\u001b[0m\u001b[0;36m1\u001b[0m \u001b[0;32mor\u001b[0m \u001b[0mal\u001b[0m\u001b[0;34m.\u001b[0m\u001b[0mcount\u001b[0m\u001b[0;34m(\u001b[0m\u001b[0mch\u001b[0m\u001b[0;34m)\u001b[0m \u001b[0;34m<\u001b[0m \u001b[0mX1\u001b[0m\u001b[0;34m.\u001b[0m\u001b[0mcount\u001b[0m\u001b[0;34m(\u001b[0m\u001b[0mch\u001b[0m\u001b[0;34m)\u001b[0m\u001b[0;34m:\u001b[0m\u001b[0;34m\u001b[0m\u001b[0m\n\u001b[0m\u001b[1;32m     29\u001b[0m             \u001b[0;32mreturn\u001b[0m \u001b[0;32mFalse\u001b[0m\u001b[0;34m\u001b[0m\u001b[0m\n\u001b[1;32m     30\u001b[0m     \u001b[0mj\u001b[0m \u001b[0;34m=\u001b[0m \u001b[0;36m1\u001b[0m\u001b[0;34m\u001b[0m\u001b[0m\n",
      "\u001b[0;31mKeyboardInterrupt\u001b[0m: "
     ]
    }
   ],
   "source": [
    "def check_final(first, word):\n",
    "    al = first + word\n",
    "    al = al.replace(' ', '')\n",
    "    i = al.find('н')\n",
    "    if i == -1:\n",
    "        return False\n",
    "    for ch in X1:\n",
    "        if al.find(ch) == -1 or al.count(ch) < X1.count(ch):\n",
    "            return False\n",
    "    j = 1\n",
    "    while True:\n",
    "        if i - j < 0:\n",
    "            return i + j >= len(al)\n",
    "        if i + j >= len(al):\n",
    "            return False\n",
    "        if al[i - j] != al[i + j]:\n",
    "            return False\n",
    "        j += 1\n",
    "\n",
    "        \n",
    "def check(first, word):\n",
    "    al = first + word\n",
    "    al = al.replace(' ', '')\n",
    "    i = al.find('н')\n",
    "    if i == -1:\n",
    "        return False\n",
    "    for ch in X1:\n",
    "        if al.find(ch) == -1 or al.count(ch) < X1.count(ch):\n",
    "            return False\n",
    "    j = 1\n",
    "    while True:\n",
    "        if i - j < 0:\n",
    "            return i + j >= len(al)\n",
    "        if i + j >= len(al):\n",
    "            return True\n",
    "        if al[i - j] != al[i + j]:\n",
    "            return False\n",
    "        j += 1\n",
    "    \n",
    "def rest1(X, sent):\n",
    "    rest = '' \n",
    "    for ch in X:\n",
    "        if ch == ' ':\n",
    "            continue\n",
    "        repeat = X.count(ch) - sent.count(ch)\n",
    "        if repeat < 0:\n",
    "            return 'w'\n",
    "        rest += ch * repeat\n",
    "    return rest\n",
    "    \n",
    "def fill(first):\n",
    "    rest = rest1(X1, first)\n",
    "    if rest == 'w':\n",
    "        return\n",
    "    new_d = get_dict(rest)\n",
    "    for word in new_d:\n",
    "        if word is None:\n",
    "            continue\n",
    "        if len(first.split()[-1]) == 1 and len(word) == 1:\n",
    "            continue\n",
    "        if len(word) > len(rest) and check(first, word):\n",
    "            fill_last(first + word + ' ')\n",
    "            continue\n",
    "        fill(first + word + ' ')\n",
    "    \n",
    "def fill_last(first):\n",
    "    if not check(first, ''):\n",
    "        return\n",
    "    if len(first.replace(' ', '')) == 23 and check_final(first, ''):\n",
    "        print(first)\n",
    "        return\n",
    "    X = X1 + ['н'] + X1\n",
    "    rest = rest1(X, first)\n",
    "    new_d = get_dict(rest)\n",
    "    for word in new_d:\n",
    "        if word is None:\n",
    "            continue\n",
    "        if len(first.split()[-1]) == 1 and len(word) == 1:\n",
    "            continue\n",
    "        if len(word) > len(rest):\n",
    "            continue\n",
    "        if check(first, word):\n",
    "            fill_last(first + word + ' ')\n",
    "            \n",
    "for word in last:\n",
    "    if word is None:\n",
    "        continue\n",
    "    if len(word) <= len(X1) and word.count('н') > 1:\n",
    "        continue\n",
    "    if len(word) >= len(X1):\n",
    "        print('\\t ' + word)\n",
    "        continue\n",
    "    message = word + ' '\n",
    "    fill(message)\n"
   ]
  },
  {
   "cell_type": "code",
   "execution_count": 159,
   "metadata": {},
   "outputs": [],
   "source": [
    "#last.remove('мо')\n",
    "#last.remove('стопин')\n",
    "#last.remove('ос')\n",
    "#last.remove('ин')\n",
    "#last.remove('муслин')\n",
    "#last.remove('ом')\n",
    "#last.remove('масон')\n",
    "last2 = last.copy()\n",
    "last = []\n",
    "for x in last2:\n",
    "    if x not in last:\n",
    "        last.append(x)\n"
   ]
  }
 ],
 "metadata": {
  "kernelspec": {
   "display_name": "Python 3",
   "language": "python",
   "name": "python3"
  },
  "language_info": {
   "codemirror_mode": {
    "name": "ipython",
    "version": 3
   },
   "file_extension": ".py",
   "mimetype": "text/x-python",
   "name": "python",
   "nbconvert_exporter": "python",
   "pygments_lexer": "ipython3",
   "version": "3.6.5"
  }
 },
 "nbformat": 4,
 "nbformat_minor": 2
}
