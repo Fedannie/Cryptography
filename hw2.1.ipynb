{
 "cells": [
  {
   "cell_type": "code",
   "execution_count": null,
   "metadata": {},
   "outputs": [],
   "source": [
    "Рассмотреть генератор псевдослучайной последовательности. \n",
    "Вначале выбираются два больших простых числа p и q. Числа p и q должны быть оба сравнимы с 3 по модулю 4. \n",
    "Далее вычисляется число M = p* q, называемое целым числом Блюма. \n",
    "\n",
    "Затем выбирается другое случайное целое число х, взаимно простое с М. \n",
    "Вычисляем x_0=x^2 mod M. x_0 называется стартовым числом генератора. \n",
    "\n",
    "На каждом n-м шаге работы генератора вычисляется x_n=x_(n-1)^2 mod M . \n",
    "Результатом n-го шага является бит чётности числа x_n , то есть сумма по модулю 2 единиц в двоичном представлении элемента. \n",
    "Для данного генератора оценить статистические свойства при помощи следующих тестов:"
   ]
  },
  {
   "cell_type": "code",
   "execution_count": 2,
   "metadata": {},
   "outputs": [],
   "source": [
    "import random\n",
    "p = 22953686867719691230002707821868552601124472329079\n",
    "assert p % 4 == 3\n",
    "q = 95647806479275528135733781266203904794419563064407\n",
    "assert q % 4 == 3\n",
    "M = p * q\n",
    "    \n",
    "def bitfield(n):\n",
    "    return [int(digit) for digit in bin(n)[2:]]\n",
    "\n",
    "def gen():\n",
    "    global x_, p, q, M\n",
    "    if (x_ == -1):\n",
    "        x_ = x\n",
    "    x_ = (x_ * x) % M\n",
    "    return sum(bitfield(x_)) % 2"
   ]
  },
  {
   "cell_type": "code",
   "execution_count": 4,
   "metadata": {},
   "outputs": [],
   "source": [
    "x_ = -1\n",
    "x = random.randint(1, M - 1)"
   ]
  },
  {
   "cell_type": "code",
   "execution_count": 5,
   "metadata": {},
   "outputs": [],
   "source": [
    "n = 100000"
   ]
  },
  {
   "cell_type": "code",
   "execution_count": 9,
   "metadata": {},
   "outputs": [
    {
     "name": "stdout",
     "output_type": "stream",
     "text": [
      "-0.6451046426743493\n",
      "0.5188593754270107\n"
     ]
    }
   ],
   "source": [
    "#1\n",
    "import numpy as np\n",
    "from scipy.special import erfc\n",
    "\n",
    "seq = []\n",
    "for i in range(n):\n",
    "    seq += [gen()]\n",
    "seq = np.array(seq)\n",
    "seq = seq * 2 - 1\n",
    "s_obs = seq.sum() / np.sqrt(n)\n",
    "print(s_obs)\n",
    "p = erfc(abs(s_obs) / np.sqrt(2))\n",
    "print(p)"
   ]
  },
  {
   "cell_type": "code",
   "execution_count": 17,
   "metadata": {},
   "outputs": [
    {
     "name": "stdout",
     "output_type": "stream",
     "text": [
      "1.640286402864029\n",
      "0.650290035089075\n"
     ]
    }
   ],
   "source": [
    "#2\n",
    "from scipy.stats import chisquare\n",
    "#m = 2\n",
    "#seq = []\n",
    "#for i in range(n):\n",
    "#    seq += [gen()]\n",
    "d = {}\n",
    "for i in range(n - m + 1):\n",
    "    block = ''.join(map(str, seq[i:i+m]))\n",
    "    if block not in d:\n",
    "        d[block] = 1\n",
    "    else:\n",
    "        d[block] += 1\n",
    "values = np.array(list(d.values()))\n",
    "chi, p = chisquare(values)\n",
    "print(chi)\n",
    "print(p)"
   ]
  },
  {
   "cell_type": "code",
   "execution_count": 22,
   "metadata": {},
   "outputs": [
    {
     "name": "stdout",
     "output_type": "stream",
     "text": [
      "4060.6406604726526\n",
      "0.6455605778890109\n"
     ]
    }
   ],
   "source": [
    "from scipy.stats import chisquare\n",
    "m = 12\n",
    "d = {}\n",
    "for i in range(n - m + 1):\n",
    "    block = ''.join(map(str, seq[i:i+m]))\n",
    "    if block not in d:\n",
    "        d[block] = 1\n",
    "    else:\n",
    "        d[block] += 1\n",
    "values = np.array(list(d.values()))\n",
    "chi, p = chisquare(values)\n",
    "print(chi)\n",
    "print(p)"
   ]
  },
  {
   "cell_type": "code",
   "execution_count": 23,
   "metadata": {},
   "outputs": [
    {
     "name": "stdout",
     "output_type": "stream",
     "text": [
      "0.2904963349443903\n"
     ]
    }
   ],
   "source": [
    "#4\n",
    "seq = np.array(seq)\n",
    "pi = np.mean(seq)\n",
    "v = np.sum((seq[1:] + seq[:-1]) % 2) + 1\n",
    "p = erfc(abs(v - 2 * n * pi * (1 - pi)) / (2 * np.sqrt(2 * n) * pi * (1 - pi)))\n",
    "print(p)"
   ]
  },
  {
   "cell_type": "code",
   "execution_count": 35,
   "metadata": {},
   "outputs": [
    {
     "name": "stdout",
     "output_type": "stream",
     "text": [
      "19998\n",
      "-0.002637631881594077\n",
      "0.0021246200642784357\n",
      "-1.241460497310078\n",
      "0.2144356823993706\n"
     ]
    }
   ],
   "source": [
    "#5\n",
    "from scipy.special import ndtr\n",
    "\n",
    "m = 5\n",
    "M = int((n - 1) / m) - 1\n",
    "print(M)\n",
    "pm = 1 / (M + 1) * np.sum(np.array([seq[k * m] * seq[(k + 1) * m] for k in range(M)])) - 0.25\n",
    "print(pm)\n",
    "sigma = np.sqrt(13 * M + 7) / (12 * (M + 1))\n",
    "print(sigma)\n",
    "z = pm / sigma\n",
    "print(z)\n",
    "p_values = ndtr(z) * 2\n",
    "print(p_values)"
   ]
  },
  {
   "cell_type": "code",
   "execution_count": 43,
   "metadata": {},
   "outputs": [
    {
     "name": "stdout",
     "output_type": "stream",
     "text": [
      "linear span 4999\n"
     ]
    }
   ],
   "source": [
    "#6\n",
    "def BM_algo(seq):\n",
    "    seq = np.array(seq)\n",
    "    N = seq.shape[0]\n",
    "    s = seq[:]\n",
    "    for k, x in enumerate(s):\n",
    "        if x == 1:\n",
    "            break\n",
    "            \n",
    "    f = set([k + 1, 0])\n",
    "    L = k + 1\n",
    "    g = set([0])\n",
    "    a = k\n",
    "    b = 0\n",
    "    \n",
    "    for n in range(k + 1, N):\n",
    "        d = 0\n",
    "        for i in f:\n",
    "            if (i + n - 1 < N):\n",
    "                d ^= s[i + n - 1]\n",
    "        if d == 0:\n",
    "            b += 1\n",
    "        else:\n",
    "            if 2 * L > n:\n",
    "                f ^= set([a - b + i for i in g])\n",
    "                b += 1\n",
    "            else:\n",
    "                tmp = f.copy()\n",
    "                f = set([b - a + i for i in f]) ^ g\n",
    "                L = n + 1 - L\n",
    "                g = tmp.copy()\n",
    "                a = b\n",
    "                b = n - L + 1\n",
    "    return L\n",
    "\n",
    "print(\"linear span \" + str(BM_algo(seq[:10000])))"
   ]
  }
 ],
 "metadata": {
  "kernelspec": {
   "display_name": "Python 3",
   "language": "python",
   "name": "python3"
  },
  "language_info": {
   "codemirror_mode": {
    "name": "ipython",
    "version": 3
   },
   "file_extension": ".py",
   "mimetype": "text/x-python",
   "name": "python",
   "nbconvert_exporter": "python",
   "pygments_lexer": "ipython3",
   "version": "3.6.5"
  }
 },
 "nbformat": 4,
 "nbformat_minor": 2
}
